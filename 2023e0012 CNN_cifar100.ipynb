{
 "cells": [
  {
   "cell_type": "code",
   "execution_count": 1,
   "metadata": {
    "id": "8Tx4a625qBAN"
   },
   "outputs": [],
   "source": [
    "from tensorflow.keras.models import Sequential\n",
    "from tensorflow.keras.layers import Dense, Conv2D, MaxPooling2D, Flatten\n",
    "from tensorflow.keras.datasets import fashion_mnist, cifar100\n",
    "from tensorflow.keras.utils import to_categorical\n",
    "import numpy as np\n",
    "import matplotlib.pyplot as plt"
   ]
  },
  {
   "cell_type": "code",
   "execution_count": 4,
   "metadata": {
    "id": "tLcoVZSq6yfJ"
   },
   "outputs": [],
   "source": [
    "# fashion_mnist dataset 로드\n",
    "(X_train,y_train),(X_test,y_test) = cifar100.load_data()"
   ]
  },
  {
   "cell_type": "code",
   "execution_count": 5,
   "metadata": {
    "id": "knvCgFGRKMvv"
   },
   "outputs": [
    {
     "name": "stdout",
     "output_type": "stream",
     "text": [
      "(50000, 32, 32, 3) (10000, 32, 32, 3) (50000, 1) (10000, 1)\n"
     ]
    }
   ],
   "source": [
    "print(X_train.shape, X_test.shape, y_train.shape, y_test.shape)"
   ]
  },
  {
   "cell_type": "markdown",
   "metadata": {
    "id": "bfSoPgrWHET1"
   },
   "source": [
    "### 1. 로드한 이미지의 특징에 대해 간단히 서술하시오. (가로/세로 픽셀 수 및 채널)"
   ]
  },
  {
   "cell_type": "code",
   "execution_count": 7,
   "metadata": {
    "id": "qz8sH3zdZd5n"
   },
   "outputs": [
    {
     "name": "stdout",
     "output_type": "stream",
     "text": [
      "100\n"
     ]
    },
    {
     "data": {
      "text/plain": [
       "<matplotlib.image.AxesImage at 0x161efaf80>"
      ]
     },
     "execution_count": 7,
     "metadata": {},
     "output_type": "execute_result"
    },
    {
     "data": {
      "image/png": "[encoded data removed]",
      "text/plain": [
       "<Figure size 640x480 with 1 Axes>"
      ]
     },
     "metadata": {},
     "output_type": "display_data"
    }
   ],
   "source": [
    "print(len(np.unique(y_train)))\n",
    "plt.imshow(X_train[10000])"
   ]
  },
  {
   "cell_type": "markdown",
   "metadata": {
    "id": "8ECK2cjcHRdp"
   },
   "source": [
    "[정답] 32x32 픽셀로 이루어져 있으며, 3개의 채널로 구성된 이미지들로 구성되어 있습니다. 총 클래스의 숫자는 100개입니다."
   ]
  },
  {
   "cell_type": "markdown",
   "metadata": {
    "id": "HOn84bLBHR7R"
   },
   "source": [
    "### 2. training data와 test data의 수는 각각 몇 개의 이미지인가?"
   ]
  },
  {
   "cell_type": "code",
   "execution_count": 8,
   "metadata": {
    "id": "fmOu-XgoZemL"
   },
   "outputs": [
    {
     "name": "stdout",
     "output_type": "stream",
     "text": [
      "(50000, 32, 32, 3) (10000, 32, 32, 3) (50000, 1) (10000, 1)\n"
     ]
    }
   ],
   "source": [
    "print(X_train.shape, X_test.shape, y_train.shape, y_test.shape)"
   ]
  },
  {
   "cell_type": "markdown",
   "metadata": {
    "id": "RJW-2sSWHeqt"
   },
   "source": [
    "[정답] training_data는 50000개, test_data는 10000개로 이루어져 있습니다."
   ]
  },
  {
   "cell_type": "markdown",
   "metadata": {
    "id": "j6aTW9vTHkAv"
   },
   "source": [
    "### 3. 로드한 데이터는 총 몇 개의 class로 구성되어 있는가? (hint: y의 최소값 및 최대값)"
   ]
  },
  {
   "cell_type": "code",
   "execution_count": 10,
   "metadata": {
    "id": "m2euPKsTHyHK"
   },
   "outputs": [
    {
     "name": "stdout",
     "output_type": "stream",
     "text": [
      "class의 종류:  [ 0  1  2  3  4  5  6  7  8  9 10 11 12 13 14 15 16 17 18 19 20 21 22 23\n",
      " 24 25 26 27 28 29 30 31 32 33 34 35 36 37 38 39 40 41 42 43 44 45 46 47\n",
      " 48 49 50 51 52 53 54 55 56 57 58 59 60 61 62 63 64 65 66 67 68 69 70 71\n",
      " 72 73 74 75 76 77 78 79 80 81 82 83 84 85 86 87 88 89 90 91 92 93 94 95\n",
      " 96 97 98 99]\n",
      "class의 수: 100\n"
     ]
    }
   ],
   "source": [
    "y_val = np.unique(y_train)\n",
    "print('class의 종류: ', y_val)\n",
    "print('class의 수:', len(y_val))"
   ]
  },
  {
   "cell_type": "markdown",
   "metadata": {
    "id": "zXeJicEUFYpk"
   },
   "source": [
    "[정답] 100개의 class로 이루어져 있습니다."
   ]
  },
  {
   "cell_type": "markdown",
   "metadata": {
    "id": "ueQlT3muImGV"
   },
   "source": [
    "### 4. 아래와 같은 순서의 CNN 모델을 구성하시오."
   ]
  },
  {
   "cell_type": "markdown",
   "metadata": {
    "id": "LFayjTe3JMFb"
   },
   "source": [
    "- 1) Convolution layer 3x3 kernels 32개\n",
    "- 2) Max Pooling layer 2x2 window\n",
    "- 3) Convolution layer 2x2 kernels 32개\n",
    "- 4) Max Pooling layer 2x2 window\n",
    "- 5) Flatten layer\n",
    "- 6) 이후 layer는 자유롭게 구성"
   ]
  },
  {
   "cell_type": "code",
   "execution_count": 23,
   "metadata": {
    "id": "BaspLHPFG0Uj"
   },
   "outputs": [],
   "source": [
    "CNN_model = Sequential([\n",
    "    Conv2D(32,(3,3),strides=(1,1),activation='relu',input_shape=(32,32,3)),\n",
    "    MaxPooling2D((2,2),strides=(2,2)),\n",
    "    Conv2D(32,(2,2),strides=(1,1),activation='relu'),\n",
    "    MaxPooling2D((2,2), strides=(2,2)),\n",
    "    Flatten(),\n",
    "    Dense(512,activation='relu'),\n",
    "    Dense(256,activation='relu'),\n",
    "    Dense(100,activation='softmax')\n",
    "])"
   ]
  },
  {
   "cell_type": "markdown",
   "metadata": {},
   "source": [
    "### 5. CNN을 구성하는 convolutional layer와 pooling layer의 역할에 대해 간단히 설명하시오."
   ]
  },
  {
   "cell_type": "markdown",
   "metadata": {},
   "source": [
    "convolutional layer는 합성곱층으로서 입력 이미지의 특징을 추출하는 층입니다. 추가로 각 pixel에 가중치를 곱하여 새로운 pixel값으로 구성된 image를 만드는 과정입니다.\n",
    "pooling layer는 다운 샘플링을 통해 image의 특징을 유지하면서 공간 해상도를 줄여, 계산량을 감소시키고, 네트워크 복잡성을 낮춥니다."
   ]
  },
  {
   "cell_type": "markdown",
   "metadata": {
    "id": "ungJcJcdLbgT"
   },
   "source": [
    "### 6. 이미지 데이터(x_train과 x_test) 각 픽셀의 최대값과 최소값을 얼마인가?"
   ]
  },
  {
   "cell_type": "code",
   "execution_count": 24,
   "metadata": {
    "id": "l9pPqhwXZhhW"
   },
   "outputs": [
    {
     "data": {
      "text/plain": [
       "(255, 0)"
      ]
     },
     "execution_count": 24,
     "metadata": {},
     "output_type": "execute_result"
    }
   ],
   "source": [
    "max_pixel_value = np.max(np.concatenate([X_train, X_test]))\n",
    "min_pixel_value = np.min(np.concatenate([X_train, X_test]))\n",
    "max_pixel_value, min_pixel_value"
   ]
  },
  {
   "cell_type": "markdown",
   "metadata": {
    "id": "trfYLMB1Lo_b"
   },
   "source": [
    "[정답] 픽셀의 최대값과 최소값은 (255, 0)이다."
   ]
  },
  {
   "cell_type": "markdown",
   "metadata": {
    "id": "ikbALNlKLsnW"
   },
   "source": [
    "### 7. 이미지 데이터(x_train과 x_test)의 값이 0과 1사이의 값이 되도록 정규화 하는 코드를 작성하시오."
   ]
  },
  {
   "cell_type": "markdown",
   "metadata": {
    "id": "mVltatLNdlb9"
   },
   "source": [
    "- 정규화된 데이터를 Xtrain과 Xtest에 저장하시오."
   ]
  },
  {
   "cell_type": "code",
   "execution_count": 25,
   "metadata": {
    "id": "XcHjaOiALr8e"
   },
   "outputs": [],
   "source": [
    "# 코드 작성\n",
    "Xtrain = X_train/255\n",
    "Xtest = X_test/255"
   ]
  },
  {
   "cell_type": "markdown",
   "metadata": {
    "id": "bMGakx-GMzJb"
   },
   "source": [
    "### 8. compile 및 학습하시오. (batch size는 300이상, epochs은 30 내외로 설정하고, 학습데이터의 30%(0.3)을 검증(validation)에 이용하시오.)"
   ]
  },
  {
   "cell_type": "code",
   "execution_count": 26,
   "metadata": {
    "id": "4OxfPYiDKdB5"
   },
   "outputs": [
    {
     "name": "stdout",
     "output_type": "stream",
     "text": [
      "Epoch 1/30\n",
      "117/117 [==============================] - 6s 52ms/step - loss: 4.1042 - acc: 0.0803 - val_loss: 3.6909 - val_acc: 0.1390\n",
      "Epoch 2/30\n",
      "117/117 [==============================] - 6s 50ms/step - loss: 3.4279 - acc: 0.1877 - val_loss: 3.3222 - val_acc: 0.2055\n",
      "Epoch 3/30\n",
      "117/117 [==============================] - 6s 48ms/step - loss: 3.1094 - acc: 0.2451 - val_loss: 3.1246 - val_acc: 0.2435\n",
      "Epoch 4/30\n",
      "117/117 [==============================] - 6s 48ms/step - loss: 2.8681 - acc: 0.2913 - val_loss: 2.9466 - val_acc: 0.2778\n",
      "Epoch 5/30\n",
      "117/117 [==============================] - 6s 47ms/step - loss: 2.6951 - acc: 0.3234 - val_loss: 2.9041 - val_acc: 0.2878\n",
      "Epoch 6/30\n",
      "117/117 [==============================] - 6s 48ms/step - loss: 2.5404 - acc: 0.3555 - val_loss: 2.7686 - val_acc: 0.3148\n",
      "Epoch 7/30\n",
      "117/117 [==============================] - 5s 47ms/step - loss: 2.3980 - acc: 0.3869 - val_loss: 2.7373 - val_acc: 0.3225\n",
      "Epoch 8/30\n",
      "117/117 [==============================] - 5s 47ms/step - loss: 2.2636 - acc: 0.4126 - val_loss: 2.6763 - val_acc: 0.3385\n",
      "Epoch 9/30\n",
      "117/117 [==============================] - 6s 51ms/step - loss: 2.1350 - acc: 0.4406 - val_loss: 2.6617 - val_acc: 0.3421\n",
      "Epoch 10/30\n",
      "117/117 [==============================] - 5s 47ms/step - loss: 2.0267 - acc: 0.4675 - val_loss: 2.6593 - val_acc: 0.3502\n",
      "Epoch 11/30\n",
      "117/117 [==============================] - 6s 47ms/step - loss: 1.9010 - acc: 0.4936 - val_loss: 2.6689 - val_acc: 0.3468\n",
      "Epoch 12/30\n",
      "117/117 [==============================] - 6s 52ms/step - loss: 1.7683 - acc: 0.5259 - val_loss: 2.6942 - val_acc: 0.3535\n",
      "Epoch 13/30\n",
      "117/117 [==============================] - 6s 49ms/step - loss: 1.6499 - acc: 0.5535 - val_loss: 2.7497 - val_acc: 0.3519\n",
      "Epoch 14/30\n",
      "117/117 [==============================] - 6s 49ms/step - loss: 1.5205 - acc: 0.5871 - val_loss: 2.7773 - val_acc: 0.3549\n",
      "Epoch 15/30\n",
      "117/117 [==============================] - 6s 54ms/step - loss: 1.3965 - acc: 0.6181 - val_loss: 2.8142 - val_acc: 0.3585\n",
      "Epoch 16/30\n",
      "117/117 [==============================] - 6s 53ms/step - loss: 1.2711 - acc: 0.6485 - val_loss: 2.8663 - val_acc: 0.3571\n",
      "Epoch 17/30\n",
      "117/117 [==============================] - 6s 51ms/step - loss: 1.1536 - acc: 0.6808 - val_loss: 3.0068 - val_acc: 0.3487\n",
      "Epoch 18/30\n",
      "117/117 [==============================] - 6s 51ms/step - loss: 1.0474 - acc: 0.7045 - val_loss: 3.1077 - val_acc: 0.3521\n",
      "Epoch 19/30\n",
      "117/117 [==============================] - 6s 50ms/step - loss: 0.9213 - acc: 0.7399 - val_loss: 3.2418 - val_acc: 0.3508\n",
      "Epoch 20/30\n",
      "117/117 [==============================] - 6s 52ms/step - loss: 0.8211 - acc: 0.7686 - val_loss: 3.3656 - val_acc: 0.3464\n",
      "Epoch 21/30\n",
      "117/117 [==============================] - 6s 51ms/step - loss: 0.7236 - acc: 0.7938 - val_loss: 3.5163 - val_acc: 0.3381\n",
      "Epoch 22/30\n",
      "117/117 [==============================] - 6s 51ms/step - loss: 0.6247 - acc: 0.8235 - val_loss: 3.6755 - val_acc: 0.3461\n",
      "Epoch 23/30\n",
      "117/117 [==============================] - 6s 53ms/step - loss: 0.5265 - acc: 0.8523 - val_loss: 3.8525 - val_acc: 0.3329\n",
      "Epoch 24/30\n",
      "117/117 [==============================] - 6s 51ms/step - loss: 0.4522 - acc: 0.8771 - val_loss: 4.1067 - val_acc: 0.3405\n",
      "Epoch 25/30\n",
      "117/117 [==============================] - 6s 52ms/step - loss: 0.3799 - acc: 0.8942 - val_loss: 4.3003 - val_acc: 0.3363\n",
      "Epoch 26/30\n",
      "117/117 [==============================] - 6s 52ms/step - loss: 0.3059 - acc: 0.9191 - val_loss: 4.4965 - val_acc: 0.3376\n",
      "Epoch 27/30\n",
      "117/117 [==============================] - 6s 52ms/step - loss: 0.2586 - acc: 0.9335 - val_loss: 4.7520 - val_acc: 0.3349\n",
      "Epoch 28/30\n",
      "117/117 [==============================] - 6s 53ms/step - loss: 0.2246 - acc: 0.9420 - val_loss: 4.9697 - val_acc: 0.3343\n",
      "Epoch 29/30\n",
      "117/117 [==============================] - 6s 51ms/step - loss: 0.1838 - acc: 0.9547 - val_loss: 5.1919 - val_acc: 0.3317\n",
      "Epoch 30/30\n",
      "117/117 [==============================] - 6s 51ms/step - loss: 0.1425 - acc: 0.9685 - val_loss: 5.3726 - val_acc: 0.3354\n"
     ]
    }
   ],
   "source": [
    "# 코드 작성\n",
    "CNN_model.compile(optimizer='adam',loss='sparse_categorical_crossentropy',metrics=['acc'])\n",
    "\n",
    "ep = 30\n",
    "batch = 300\n",
    "val_ratio = 0.3\n",
    "\n",
    "CNN_result = CNN_model.fit(Xtrain, y_train,\n",
    "                           epochs=ep,\n",
    "                           batch_size=batch,\n",
    "                           validation_split=val_ratio)"
   ]
  },
  {
   "cell_type": "markdown",
   "metadata": {
    "id": "h2k2eX9gNGc_"
   },
   "source": [
    "### 9. 위에서 생성한 model에 x_test 이미지를 적용했을 때의 정확도를 구하시오."
   ]
  },
  {
   "cell_type": "code",
   "execution_count": 28,
   "metadata": {
    "id": "HmYh5yc-NRun"
   },
   "outputs": [
    {
     "name": "stdout",
     "output_type": "stream",
     "text": [
      "313/313 [==============================] - 1s 3ms/step - loss: 5.3622 - acc: 0.3346\n"
     ]
    },
    {
     "data": {
      "text/plain": [
       "[5.362198829650879, 0.3346000015735626]"
      ]
     },
     "execution_count": 28,
     "metadata": {},
     "output_type": "execute_result"
    }
   ],
   "source": [
    "# 코드 작성\n",
    "# 정확도: ??\n",
    "CNN_model.evaluate(Xtest,y_test)"
   ]
  },
  {
   "cell_type": "markdown",
   "metadata": {},
   "source": [
    "정확도 : 0.3346000015735626"
   ]
  },
  {
   "cell_type": "markdown",
   "metadata": {
    "id": "prQZdYfvNW_s"
   },
   "source": [
    "### 10. 잘못 분류된 이미지 데이터 3개를 plot하고 실제 class와 예측한 class의 결과를 함께 보여주시오."
   ]
  },
  {
   "cell_type": "code",
   "execution_count": 36,
   "metadata": {
    "id": "BLew1q7XNWdb"
   },
   "outputs": [
    {
     "name": "stdout",
     "output_type": "stream",
     "text": [
      "313/313 [==============================] - 1s 3ms/step\n",
      "0 번째 case\n",
      "실제값 :  [49]\n",
      "예측값 :  2\n",
      "___________\n",
      "1 번째 case\n",
      "실제값 :  [33]\n",
      "예측값 :  31\n",
      "___________\n",
      "2 번째 case\n",
      "실제값 :  [72]\n",
      "예측값 :  15\n",
      "___________\n"
     ]
    },
    {
     "data": {
      "image/png": "[encoded data removed]",
      "text/plain": [
       "<Figure size 640x480 with 3 Axes>"
      ]
     },
     "metadata": {},
     "output_type": "display_data"
    }
   ],
   "source": [
    "# 코드 작성\n",
    "pred = CNN_model.predict(Xtest)\n",
    "pred_classes = np.argmax(pred, axis=1)\n",
    "\n",
    "wrong_ind = np.argwhere(y_test.ravel() != pred_classes)\n",
    "\n",
    "for i in range(3):\n",
    "    plt.subplot(1, 3, i+1)\n",
    "    n = int(wrong_ind[i])\n",
    "    plt.imshow(X_test[n])\n",
    "    print(i, '번째 case')\n",
    "    print('실제값 : ', y_test[n])\n",
    "    print('예측값 : ', pred_classes[n])\n",
    "    print('___________')"
   ]
  },
  {
   "cell_type": "code",
   "execution_count": null,
   "metadata": {},
   "outputs": [],
   "source": []
  }
 ],
 "metadata": {
  "accelerator": "GPU",
  "colab": {
   "authorship_tag": "ABX9TyPPP84XAaHxIXxvqeJqGuI5",
   "collapsed_sections": [],
   "name": "CNN_cifar100.ipynb",
   "provenance": []
  },
  "kernelspec": {
   "display_name": "Python 3 (ipykernel)",
   "language": "python",
   "name": "python3"
  },
  "language_info": {
   "codemirror_mode": {
    "name": "ipython",
    "version": 3
   },
   "file_extension": ".py",
   "mimetype": "text/x-python",
   "name": "python",
   "nbconvert_exporter": "python",
   "pygments_lexer": "ipython3",
   "version": "3.10.9"
  }
 },
 "nbformat": 4,
 "nbformat_minor": 1
}
