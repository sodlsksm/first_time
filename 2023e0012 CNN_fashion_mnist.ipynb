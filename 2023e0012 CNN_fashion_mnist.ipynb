{
 "cells": [
  {
   "cell_type": "code",
   "execution_count": 1,
   "metadata": {
    "id": "8Tx4a625qBAN"
   },
   "outputs": [],
   "source": [
    "from tensorflow.keras.models import Sequential\n",
    "from tensorflow.keras.layers import Dense, Conv2D, MaxPooling2D, Flatten\n",
    "from tensorflow.keras.datasets import fashion_mnist, cifar100\n",
    "from tensorflow.keras.utils import to_categorical\n",
    "import numpy as np\n",
    "import matplotlib.pyplot as plt"
   ]
  },
  {
   "cell_type": "code",
   "execution_count": 4,
   "metadata": {
    "id": "tLcoVZSq6yfJ"
   },
   "outputs": [],
   "source": [
    "# fashion_mnist dataset 로드\n",
    "(X_train,y_train),(X_test,y_test) = fashion_mnist.load_data()"
   ]
  },
  {
   "cell_type": "markdown",
   "metadata": {
    "id": "bfSoPgrWHET1"
   },
   "source": [
    "### 1. 로드한 이미지의 특징에 대해 간단히 서술하시오."
   ]
  },
  {
   "cell_type": "code",
   "execution_count": 16,
   "metadata": {
    "id": "wahU9F86ZEYi"
   },
   "outputs": [
    {
     "data": {
      "text/plain": [
       "<matplotlib.image.AxesImage at 0x1767ed1b0>"
      ]
     },
     "execution_count": 16,
     "metadata": {},
     "output_type": "execute_result"
    },
    {
     "data": {
      "image/png": "[encoded data removed]",
      "text/plain": [
       "<Figure size 640x480 with 1 Axes>"
      ]
     },
     "metadata": {},
     "output_type": "display_data"
    }
   ],
   "source": [
    "plt.imshow(X_train[1])"
   ]
  },
  {
   "cell_type": "markdown",
   "metadata": {
    "id": "8ECK2cjcHRdp"
   },
   "source": [
    "[정답] 10개의 서로 다른 패션 의류에 대한 class로 구성이 되어 있습니다. 뒤에 번호는 사람도 식별하기 어렵지만 X_train의 head data들은 육안으로 의류라는 것을 식별할 수 있습니다."
   ]
  },
  {
   "cell_type": "markdown",
   "metadata": {
    "id": "HOn84bLBHR7R"
   },
   "source": [
    "### 2. training data와 test data의 수는 각각 몇 개의 이미지인가?"
   ]
  },
  {
   "cell_type": "code",
   "execution_count": 19,
   "metadata": {
    "id": "rHnvHqAcZFha"
   },
   "outputs": [
    {
     "name": "stdout",
     "output_type": "stream",
     "text": [
      "(60000, 28, 28) (10000, 28, 28) (60000,) (10000,)\n"
     ]
    },
    {
     "data": {
      "text/plain": [
       "(60000, 10000)"
      ]
     },
     "execution_count": 19,
     "metadata": {},
     "output_type": "execute_result"
    }
   ],
   "source": [
    "print(X_train.shape, X_test.shape, y_train.shape, y_test.shape)\n",
    "len(X_train), len(X_test)"
   ]
  },
  {
   "cell_type": "markdown",
   "metadata": {
    "id": "RJW-2sSWHeqt"
   },
   "source": [
    "[정답]train_data는 60000개, test_data는 10000개로 확인이 가능하다."
   ]
  },
  {
   "cell_type": "markdown",
   "metadata": {
    "id": "j6aTW9vTHkAv"
   },
   "source": [
    "### 3. 로드한 fashion_mnist는 0~9까지 10개의 class이다. 이를 확인할 수 있는 코드를 작성하고, 실행하시오."
   ]
  },
  {
   "cell_type": "code",
   "execution_count": 20,
   "metadata": {
    "id": "m2euPKsTHyHK"
   },
   "outputs": [
    {
     "name": "stdout",
     "output_type": "stream",
     "text": [
      "10\n"
     ]
    }
   ],
   "source": [
    "# 코드 작성\n",
    "print(len(np.unique(y_train)))"
   ]
  },
  {
   "cell_type": "markdown",
   "metadata": {
    "id": "ueQlT3muImGV"
   },
   "source": [
    "### 4. 아래와 같은 순서의 CNN 모델을 구성하시오."
   ]
  },
  {
   "cell_type": "markdown",
   "metadata": {
    "id": "LFayjTe3JMFb"
   },
   "source": [
    "- 1) Convolution layer 2x2 kernels 16개\n",
    "- 2) Max Pooling layer 2x2 window\n",
    "- 3) Convolution layer 3x3 kernels 32개\n",
    "- 4) Max Pooling layer 2x2 window\n",
    "- 5) Flatten layer\n",
    "- 6) 이후 layer는 자유롭게 구성"
   ]
  },
  {
   "cell_type": "code",
   "execution_count": 45,
   "metadata": {
    "id": "ByDUjdZAZK2r"
   },
   "outputs": [],
   "source": [
    "model = Sequential([\n",
    "    Conv2D(16, (2, 2), activation='relu', input_shape=(28, 28, 1)),\n",
    "    MaxPooling2D((2,2),strides=(2,2)),\n",
    "    Conv2D(32,(3,3),strides=(1,1),activation='relu'),\n",
    "    Flatten(),\n",
    "    Dense(512,activation='relu'),\n",
    "    Dense(256,activation='relu'),\n",
    "    Dense(10,activation='softmax')\n",
    "])"
   ]
  },
  {
   "cell_type": "markdown",
   "metadata": {
    "id": "ungJcJcdLbgT"
   },
   "source": [
    "### 5. 이미지 데이터(x_train과 x_test) 각 픽셀의 최대값과 최소값은 얼마인가?"
   ]
  },
  {
   "cell_type": "code",
   "execution_count": 46,
   "metadata": {},
   "outputs": [
    {
     "data": {
      "text/plain": [
       "(0, 255)"
      ]
     },
     "execution_count": 46,
     "metadata": {},
     "output_type": "execute_result"
    }
   ],
   "source": [
    "max_pixel_value = np.max(np.concatenate([x_train, x_test]))\n",
    "min_pixel_value = np.min(np.concatenate([x_train, x_test]))\n",
    "min_pixel_value, max_pixel_value\n",
    "# 혹시 몰라서 확인하는 코드"
   ]
  },
  {
   "cell_type": "markdown",
   "metadata": {
    "id": "trfYLMB1Lo_b"
   },
   "source": [
    "[정답] 대부분의 data와 동일하게 (0,255)의 범위를 가진다."
   ]
  },
  {
   "cell_type": "markdown",
   "metadata": {
    "id": "ikbALNlKLsnW"
   },
   "source": [
    "### 6. 이미지 데이터(x_train과 x_test)를 위의 CNN 모델에 적용할 수 있는 형태로 변형하고 값이 0과 1사이의 값이 되도록 정규화 하는 코드를 작성하시오."
   ]
  },
  {
   "cell_type": "markdown",
   "metadata": {
    "id": "ySy8GVr1eln-"
   },
   "source": [
    "- 변형 및 정규화된 데이터를 Xtrain과 Xtest에 저장하시오."
   ]
  },
  {
   "cell_type": "code",
   "execution_count": 47,
   "metadata": {
    "id": "XcHjaOiALr8e"
   },
   "outputs": [],
   "source": [
    "# 코드 작성\n",
    "Xsc_train = X_train/255\n",
    "Xsc_test = X_test/255"
   ]
  },
  {
   "cell_type": "markdown",
   "metadata": {
    "id": "bMGakx-GMzJb"
   },
   "source": [
    "### 7. compile 및 학습하시오. (batch size는 100내외, epoch은 10내외로 설정하고, 학습데이터의 30%(0.3)를 검증(validation)에 이용하시오.)"
   ]
  },
  {
   "cell_type": "code",
   "execution_count": 48,
   "metadata": {
    "id": "4OxfPYiDKdB5"
   },
   "outputs": [
    {
     "name": "stdout",
     "output_type": "stream",
     "text": [
      "Epoch 1/10\n",
      "657/657 [==============================] - 9s 13ms/step - loss: 0.4640 - acc: 0.8326 - val_loss: 0.3610 - val_acc: 0.8694\n",
      "Epoch 2/10\n",
      "657/657 [==============================] - 9s 14ms/step - loss: 0.3028 - acc: 0.8887 - val_loss: 0.2894 - val_acc: 0.8965\n",
      "Epoch 3/10\n",
      "657/657 [==============================] - 9s 13ms/step - loss: 0.2457 - acc: 0.9077 - val_loss: 0.2838 - val_acc: 0.8994\n",
      "Epoch 4/10\n",
      "657/657 [==============================] - 9s 13ms/step - loss: 0.2055 - acc: 0.9226 - val_loss: 0.2622 - val_acc: 0.9083\n",
      "Epoch 5/10\n",
      "657/657 [==============================] - 9s 13ms/step - loss: 0.1770 - acc: 0.9327 - val_loss: 0.2871 - val_acc: 0.8994\n",
      "Epoch 6/10\n",
      "657/657 [==============================] - 9s 13ms/step - loss: 0.1443 - acc: 0.9462 - val_loss: 0.2819 - val_acc: 0.9088\n",
      "Epoch 7/10\n",
      "657/657 [==============================] - 9s 13ms/step - loss: 0.1153 - acc: 0.9569 - val_loss: 0.3009 - val_acc: 0.9068\n",
      "Epoch 8/10\n",
      "657/657 [==============================] - 9s 13ms/step - loss: 0.0931 - acc: 0.9653 - val_loss: 0.3339 - val_acc: 0.9099\n",
      "Epoch 9/10\n",
      "657/657 [==============================] - 9s 13ms/step - loss: 0.0740 - acc: 0.9725 - val_loss: 0.3464 - val_acc: 0.9130\n",
      "Epoch 10/10\n",
      "657/657 [==============================] - 9s 13ms/step - loss: 0.0565 - acc: 0.9791 - val_loss: 0.3730 - val_acc: 0.9091\n"
     ]
    }
   ],
   "source": [
    "# 코드 작성\n",
    "model.compile(optimizer='adam',loss='sparse_categorical_crossentropy',metrics=['acc'])\n",
    "\n",
    "result = model.fit(Xsc_train, y_train,\n",
    "                         epochs=10, batch_size=64, validation_split=0.3)"
   ]
  },
  {
   "cell_type": "markdown",
   "metadata": {
    "id": "h2k2eX9gNGc_"
   },
   "source": [
    "### 8. 위에서 생성한 model에 x_test 이미지를 적용했을 때의 정확도를 구하시오."
   ]
  },
  {
   "cell_type": "code",
   "execution_count": 49,
   "metadata": {
    "id": "HmYh5yc-NRun"
   },
   "outputs": [
    {
     "name": "stdout",
     "output_type": "stream",
     "text": [
      "313/313 [==============================] - 1s 3ms/step - loss: 0.4006 - acc: 0.9038\n"
     ]
    },
    {
     "data": {
      "text/plain": [
       "[0.40057170391082764, 0.9038000106811523]"
      ]
     },
     "execution_count": 49,
     "metadata": {},
     "output_type": "execute_result"
    }
   ],
   "source": [
    "# 코드 작성\n",
    "# 정확도: ??\n",
    "model.evaluate(Xsc_test,y_test)"
   ]
  },
  {
   "cell_type": "markdown",
   "metadata": {
    "id": "71Nv6xTeZVSL"
   },
   "source": [
    "[정답]  정확도 : 0.9038000106811523"
   ]
  },
  {
   "cell_type": "markdown",
   "metadata": {
    "id": "prQZdYfvNW_s"
   },
   "source": [
    "### 9. 잘못 분류된 이미지 데이터 3개를 plot하고 실제 class와 예측한 class의 결과를 함께 보여주시오."
   ]
  },
  {
   "cell_type": "code",
   "execution_count": 74,
   "metadata": {
    "id": "BLew1q7XNWdb"
   },
   "outputs": [
    {
     "name": "stdout",
     "output_type": "stream",
     "text": [
      "313/313 [==============================] - 1s 2ms/step\n",
      "0 번째 case\n",
      "실제값 :  7\n",
      "예측값 :  5\n",
      "___________\n",
      "1 번째 case\n",
      "실제값 :  4\n",
      "예측값 :  2\n",
      "___________\n",
      "2 번째 case\n",
      "실제값 :  9\n",
      "예측값 :  5\n",
      "___________\n"
     ]
    },
    {
     "data": {
      "image/png": "[encoded data removed]",
      "text/plain": [
       "<Figure size 640x480 with 3 Axes>"
      ]
     },
     "metadata": {},
     "output_type": "display_data"
    }
   ],
   "source": [
    "# 코드 작성\n",
    "pred = model.predict(Xsc_test)\n",
    "pred_classes = np.argmax(pred, axis=1)\n",
    "\n",
    "wrong_ind = np.argwhere(y_test.ravel() != pred_classes)\n",
    "\n",
    "for i in range(3):\n",
    "    plt.subplot(1, 3, i+1)\n",
    "    n = int(wrong_ind[i])\n",
    "    plt.imshow(X_test[n])\n",
    "    print(i, '번째 case')\n",
    "    print('실제값 : ', y_test[n])\n",
    "    print('예측값 : ', pred_classes[n])\n",
    "    print('___________')"
   ]
  },
  {
   "cell_type": "code",
   "execution_count": null,
   "metadata": {},
   "outputs": [],
   "source": []
  }
 ],
 "metadata": {
  "accelerator": "GPU",
  "colab": {
   "authorship_tag": "ABX9TyNZXQCIgz7bWP+bDGwEeDQo",
   "collapsed_sections": [],
   "name": "CNN_fashion_mnist.ipynb",
   "provenance": []
  },
  "kernelspec": {
   "display_name": "Python 3 (ipykernel)",
   "language": "python",
   "name": "python3"
  },
  "language_info": {
   "codemirror_mode": {
    "name": "ipython",
    "version": 3
   },
   "file_extension": ".py",
   "mimetype": "text/x-python",
   "name": "python",
   "nbconvert_exporter": "python",
   "pygments_lexer": "ipython3",
   "version": "3.10.9"
  }
 },
 "nbformat": 4,
 "nbformat_minor": 1
}
