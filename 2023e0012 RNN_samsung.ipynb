{
 "cells": [
  {
   "cell_type": "code",
   "execution_count": 1,
   "metadata": {
    "id": "sVa2nLg3vVXw"
   },
   "outputs": [],
   "source": [
    "from keras.models import Sequential\n",
    "from keras.layers import SimpleRNN, Dense\n",
    "from sklearn.preprocessing import MinMaxScaler\n",
    "from sklearn.metrics import mean_squared_error\n",
    "from sklearn.model_selection import train_test_split\n",
    "import math\n",
    "import numpy as np\n",
    "import matplotlib.pyplot as plt\n",
    "from pandas import read_csv"
   ]
  },
  {
   "cell_type": "markdown",
   "metadata": {
    "id": "jYd9MRSrxKwi"
   },
   "source": [
    "### 1. Samsung_Electronics.csv은 날짜 별 삼성전자 주식 데이터이다. 해당 csv 파일의 'Close'열만 추출하여 stock_data에 저장하시오."
   ]
  },
  {
   "cell_type": "code",
   "execution_count": 58,
   "metadata": {
    "executionInfo": {
     "elapsed": 3,
     "status": "ok",
     "timestamp": 1638498479800,
     "user": {
      "displayName": "천민규",
      "photoUrl": "https://lh3.googleusercontent.com/a/default-user=s64",
      "userId": "15135663576919366744"
     },
     "user_tz": -540
    },
    "id": "Tp0R9j2xv2eq"
   },
   "outputs": [
    {
     "data": {
      "text/plain": [
       "(248, 1)"
      ]
     },
     "execution_count": 58,
     "metadata": {},
     "output_type": "execute_result"
    }
   ],
   "source": [
    "# 코드 작성\n",
    "dataset = read_csv('Samsung_Electronics.csv').values\n",
    "# neural network의 입력은 2d array만 가능\n",
    "stock_data = dataset[:,3:4]\n",
    "stock_data.shape"
   ]
  },
  {
   "cell_type": "markdown",
   "metadata": {
    "id": "pCl_U1HYxNVC"
   },
   "source": [
    "### 2. stock_data의 범위가 0~5가 되도록 크기를 조절한 후, StockData에 저장하시오."
   ]
  },
  {
   "cell_type": "code",
   "execution_count": 59,
   "metadata": {
    "id": "OaeA2XakwgS9"
   },
   "outputs": [
    {
     "data": {
      "text/html": [
       "<style>#sk-container-id-1 {color: black;background-color: white;}#sk-container-id-1 pre{padding: 0;}#sk-container-id-1 div.sk-toggleable {background-color: white;}#sk-container-id-1 label.sk-toggleable__label {cursor: pointer;display: block;width: 100%;margin-bottom: 0;padding: 0.3em;box-sizing: border-box;text-align: center;}#sk-container-id-1 label.sk-toggleable__label-arrow:before {content: \"▸\";float: left;margin-right: 0.25em;color: #696969;}#sk-container-id-1 label.sk-toggleable__label-arrow:hover:before {color: black;}#sk-container-id-1 div.sk-estimator:hover label.sk-toggleable__label-arrow:before {color: black;}#sk-container-id-1 div.sk-toggleable__content {max-height: 0;max-width: 0;overflow: hidden;text-align: left;background-color: #f0f8ff;}#sk-container-id-1 div.sk-toggleable__content pre {margin: 0.2em;color: black;border-radius: 0.25em;background-color: #f0f8ff;}#sk-container-id-1 input.sk-toggleable__control:checked~div.sk-toggleable__content {max-height: 200px;max-width: 100%;overflow: auto;}#sk-container-id-1 input.sk-toggleable__control:checked~label.sk-toggleable__label-arrow:before {content: \"▾\";}#sk-container-id-1 div.sk-estimator input.sk-toggleable__control:checked~label.sk-toggleable__label {background-color: #d4ebff;}#sk-container-id-1 div.sk-label input.sk-toggleable__control:checked~label.sk-toggleable__label {background-color: #d4ebff;}#sk-container-id-1 input.sk-hidden--visually {border: 0;clip: rect(1px 1px 1px 1px);clip: rect(1px, 1px, 1px, 1px);height: 1px;margin: -1px;overflow: hidden;padding: 0;position: absolute;width: 1px;}#sk-container-id-1 div.sk-estimator {font-family: monospace;background-color: #f0f8ff;border: 1px dotted black;border-radius: 0.25em;box-sizing: border-box;margin-bottom: 0.5em;}#sk-container-id-1 div.sk-estimator:hover {background-color: #d4ebff;}#sk-container-id-1 div.sk-parallel-item::after {content: \"\";width: 100%;border-bottom: 1px solid gray;flex-grow: 1;}#sk-container-id-1 div.sk-label:hover label.sk-toggleable__label {background-color: #d4ebff;}#sk-container-id-1 div.sk-serial::before {content: \"\";position: absolute;border-left: 1px solid gray;box-sizing: border-box;top: 0;bottom: 0;left: 50%;z-index: 0;}#sk-container-id-1 div.sk-serial {display: flex;flex-direction: column;align-items: center;background-color: white;padding-right: 0.2em;padding-left: 0.2em;position: relative;}#sk-container-id-1 div.sk-item {position: relative;z-index: 1;}#sk-container-id-1 div.sk-parallel {display: flex;align-items: stretch;justify-content: center;background-color: white;position: relative;}#sk-container-id-1 div.sk-item::before, #sk-container-id-1 div.sk-parallel-item::before {content: \"\";position: absolute;border-left: 1px solid gray;box-sizing: border-box;top: 0;bottom: 0;left: 50%;z-index: -1;}#sk-container-id-1 div.sk-parallel-item {display: flex;flex-direction: column;z-index: 1;position: relative;background-color: white;}#sk-container-id-1 div.sk-parallel-item:first-child::after {align-self: flex-end;width: 50%;}#sk-container-id-1 div.sk-parallel-item:last-child::after {align-self: flex-start;width: 50%;}#sk-container-id-1 div.sk-parallel-item:only-child::after {width: 0;}#sk-container-id-1 div.sk-dashed-wrapped {border: 1px dashed gray;margin: 0 0.4em 0.5em 0.4em;box-sizing: border-box;padding-bottom: 0.4em;background-color: white;}#sk-container-id-1 div.sk-label label {font-family: monospace;font-weight: bold;display: inline-block;line-height: 1.2em;}#sk-container-id-1 div.sk-label-container {text-align: center;}#sk-container-id-1 div.sk-container {/* jupyter's `normalize.less` sets `[hidden] { display: none; }` but bootstrap.min.css set `[hidden] { display: none !important; }` so we also need the `!important` here to be able to override the default hidden behavior on the sphinx rendered scikit-learn.org. See: https://github.com/scikit-learn/scikit-learn/issues/21755 */display: inline-block !important;position: relative;}#sk-container-id-1 div.sk-text-repr-fallback {display: none;}</style><div id=\"sk-container-id-1\" class=\"sk-top-container\"><div class=\"sk-text-repr-fallback\"><pre>MinMaxScaler(feature_range=(0, 5))</pre><b>In a Jupyter environment, please rerun this cell to show the HTML representation or trust the notebook. <br />On GitHub, the HTML representation is unable to render, please try loading this page with nbviewer.org.</b></div><div class=\"sk-container\" hidden><div class=\"sk-item\"><div class=\"sk-estimator sk-toggleable\"><input class=\"sk-toggleable__control sk-hidden--visually\" id=\"sk-estimator-id-1\" type=\"checkbox\" checked><label for=\"sk-estimator-id-1\" class=\"sk-toggleable__label sk-toggleable__label-arrow\">MinMaxScaler</label><div class=\"sk-toggleable__content\"><pre>MinMaxScaler(feature_range=(0, 5))</pre></div></div></div></div></div>"
      ],
      "text/plain": [
       "MinMaxScaler(feature_range=(0, 5))"
      ]
     },
     "execution_count": 59,
     "metadata": {},
     "output_type": "execute_result"
    }
   ],
   "source": [
    "# 코드 작성\n",
    "StockData = MinMaxScaler(feature_range=(0,5))\n",
    "# MinMaxScaler(feature_range=(a,b)): 입력을 최소값이 a이고 최대값이 b가 되도록 변형함\n",
    "StockData.fit(stock_data)"
   ]
  },
  {
   "cell_type": "markdown",
   "metadata": {
    "id": "rPalFxMxIh8J"
   },
   "source": [
    "### 3. train_data(학습데이터)와 test_data(테스트데이터)를 75:25의 비율로 분리한 후, 각 데이터의 수를 확인하시오."
   ]
  },
  {
   "cell_type": "code",
   "execution_count": 63,
   "metadata": {
    "id": "FRYbkD9hIhDy"
   },
   "outputs": [
    {
     "data": {
      "text/plain": [
       "((186, 1), (62, 1))"
      ]
     },
     "execution_count": 63,
     "metadata": {},
     "output_type": "execute_result"
    }
   ],
   "source": [
    "# 코드 작성\n",
    "train_data,test_data = train_test_split(stock_data,test_size=0.25,shuffle=False)\n",
    "\n",
    "train_data = StockData.transform(train_data)\n",
    "test_data = StockData.transform(test_data)\n",
    "\n",
    "train_data.shape, test_data.shape"
   ]
  },
  {
   "cell_type": "markdown",
   "metadata": {
    "id": "Ts13kpENyB9G"
   },
   "source": [
    "### 4. 7일 간의 데이터로 다음 날의 주식 값을 예측할 수 있는 데이터 형태로 변형하시오. (x: 7일 간 주식 값, y: 다음 날 주식 값)"
   ]
  },
  {
   "cell_type": "markdown",
   "metadata": {
    "id": "O5q3dRViJZwq"
   },
   "source": [
    "- train_x, train_y, test_x, test_y로 분리하시오."
   ]
  },
  {
   "cell_type": "code",
   "execution_count": 64,
   "metadata": {
    "id": "E7r8sjp8wo80"
   },
   "outputs": [],
   "source": [
    "# 코드 작성\n",
    "def create_dataset(dataset,num_past):\n",
    "    X = []\n",
    "    y = []\n",
    "    for i in range(len(dataset)-num_past):\n",
    "        X_tmp = dataset[i:i+num_past]\n",
    "        y_tmp = dataset[i+num_past]\n",
    "\n",
    "        X.append(X_tmp)\n",
    "        y.append(y_tmp)\n",
    "\n",
    "    return np.array(X),np.array(y)\n",
    "\n",
    "past = 7\n",
    "train_x, train_y = create_dataset(train_data, past)\n",
    "test_x, test_y = create_dataset(test_data, past)"
   ]
  },
  {
   "cell_type": "markdown",
   "metadata": {
    "id": "_51DV-NU0c8T"
   },
   "source": [
    "### 5. train_x, train_y, test_x, test_y의 행과 열의 수(shape)를 확인하고, x와 y가 각각 어떠한 데이터를 의미하는지 간단히 서술하시오."
   ]
  },
  {
   "cell_type": "code",
   "execution_count": 65,
   "metadata": {
    "id": "6jyNfrMk0cX6"
   },
   "outputs": [
    {
     "name": "stdout",
     "output_type": "stream",
     "text": [
      "(179, 7, 1) (179, 1) (55, 7, 1) (55, 1)\n"
     ]
    }
   ],
   "source": [
    "# 코드 작성\n",
    "print(train_x.shape, train_y.shape, test_x.shape, test_y.shape)"
   ]
  },
  {
   "cell_type": "markdown",
   "metadata": {},
   "source": [
    "train_x와 test_x는 2d array로 보이며, train_y, test_y는 1d array로 확인이 된다."
   ]
  },
  {
   "cell_type": "markdown",
   "metadata": {
    "id": "Kud6Ztlb1Fin"
   },
   "source": [
    "### 6. RNN model에 적용할 수 있도록 train_x과 test_x를 3D array로 변형하시오."
   ]
  },
  {
   "cell_type": "markdown",
   "metadata": {
    "id": "VPRj2UvgLszN"
   },
   "source": [
    "- 3D로 변형한 데이터를 각각 trainX, testX에 저장하시오."
   ]
  },
  {
   "cell_type": "code",
   "execution_count": 66,
   "metadata": {
    "executionInfo": {
     "elapsed": 351,
     "status": "ok",
     "timestamp": 1638499291899,
     "user": {
      "displayName": "천민규",
      "photoUrl": "https://lh3.googleusercontent.com/a/default-user=s64",
      "userId": "15135663576919366744"
     },
     "user_tz": -540
    },
    "id": "nJ3bTKnfzVLP"
   },
   "outputs": [],
   "source": [
    "# 코드 작성\n",
    "trainX = train_x.reshape((train_x.shape[0], train_x.shape[1], 1))\n",
    "train_y = train_y.ravel()\n",
    "testX = test_x.reshape((test_x.shape[0], test_x.shape[1], 1))\n",
    "test_y = test_y.ravel()"
   ]
  },
  {
   "cell_type": "markdown",
   "metadata": {
    "id": "afdF2kue2EgM"
   },
   "source": [
    "### 7. 아래 코드를 완성하여 RNN model을 구성하시오."
   ]
  },
  {
   "cell_type": "code",
   "execution_count": 67,
   "metadata": {
    "id": "T4jUUSHP1jvw"
   },
   "outputs": [],
   "source": [
    "# 코드 완성\n",
    "model = Sequential([\n",
    "                    SimpleRNN(10, input_shape=(7, 1)),\n",
    "                    Dense(1, activation='linear'),\n",
    "                    ])"
   ]
  },
  {
   "cell_type": "code",
   "execution_count": 68,
   "metadata": {
    "id": "8ddbG-e72f2E"
   },
   "outputs": [],
   "source": [
    "model.compile(optimizer = 'adam', loss = 'mse')"
   ]
  },
  {
   "cell_type": "markdown",
   "metadata": {
    "id": "oyqGGnJ53MSs"
   },
   "source": [
    "### 8. batch size은 1, epochs은 100으로 설정하고, 위의 학습데이터를 적용하여 RNN model을 학습하시오."
   ]
  },
  {
   "cell_type": "code",
   "execution_count": 69,
   "metadata": {
    "executionInfo": {
     "elapsed": 260,
     "status": "ok",
     "timestamp": 1638499813849,
     "user": {
      "displayName": "천민규",
      "photoUrl": "https://lh3.googleusercontent.com/a/default-user=s64",
      "userId": "15135663576919366744"
     },
     "user_tz": -540
    },
    "id": "iguPHAuw2dJD"
   },
   "outputs": [
    {
     "name": "stdout",
     "output_type": "stream",
     "text": [
      "Epoch 1/100\n",
      "179/179 [==============================] - 0s 530us/step - loss: 3.5366\n",
      "Epoch 2/100\n",
      "179/179 [==============================] - 0s 483us/step - loss: 0.6845\n",
      "Epoch 3/100\n",
      "179/179 [==============================] - 0s 485us/step - loss: 0.3017\n",
      "Epoch 4/100\n",
      "179/179 [==============================] - 0s 484us/step - loss: 0.2167\n",
      "Epoch 5/100\n",
      "179/179 [==============================] - 0s 483us/step - loss: 0.1799\n",
      "Epoch 6/100\n",
      "179/179 [==============================] - 0s 483us/step - loss: 0.1491\n",
      "Epoch 7/100\n",
      "179/179 [==============================] - 0s 480us/step - loss: 0.1280\n",
      "Epoch 8/100\n",
      "179/179 [==============================] - 0s 481us/step - loss: 0.1113\n",
      "Epoch 9/100\n",
      "179/179 [==============================] - 0s 535us/step - loss: 0.1004\n",
      "Epoch 10/100\n",
      "179/179 [==============================] - 0s 504us/step - loss: 0.0935\n",
      "Epoch 11/100\n",
      "179/179 [==============================] - 0s 504us/step - loss: 0.0877\n",
      "Epoch 12/100\n",
      "179/179 [==============================] - 0s 497us/step - loss: 0.0842\n",
      "Epoch 13/100\n",
      "179/179 [==============================] - 0s 484us/step - loss: 0.0798\n",
      "Epoch 14/100\n",
      "179/179 [==============================] - 0s 495us/step - loss: 0.0792\n",
      "Epoch 15/100\n",
      "179/179 [==============================] - 0s 489us/step - loss: 0.0767\n",
      "Epoch 16/100\n",
      "179/179 [==============================] - 0s 490us/step - loss: 0.0744\n",
      "Epoch 17/100\n",
      "179/179 [==============================] - 0s 488us/step - loss: 0.0722\n",
      "Epoch 18/100\n",
      "179/179 [==============================] - 0s 488us/step - loss: 0.0688\n",
      "Epoch 19/100\n",
      "179/179 [==============================] - 0s 488us/step - loss: 0.0664\n",
      "Epoch 20/100\n",
      "179/179 [==============================] - 0s 490us/step - loss: 0.0669\n",
      "Epoch 21/100\n",
      "179/179 [==============================] - 0s 485us/step - loss: 0.0648\n",
      "Epoch 22/100\n",
      "179/179 [==============================] - 0s 490us/step - loss: 0.0640\n",
      "Epoch 23/100\n",
      "179/179 [==============================] - 0s 492us/step - loss: 0.0656\n",
      "Epoch 24/100\n",
      "179/179 [==============================] - 0s 488us/step - loss: 0.0631\n",
      "Epoch 25/100\n",
      "179/179 [==============================] - 0s 488us/step - loss: 0.0659\n",
      "Epoch 26/100\n",
      "179/179 [==============================] - 0s 492us/step - loss: 0.0601\n",
      "Epoch 27/100\n",
      "179/179 [==============================] - 0s 485us/step - loss: 0.0616\n",
      "Epoch 28/100\n",
      "179/179 [==============================] - 0s 487us/step - loss: 0.0625\n",
      "Epoch 29/100\n",
      "179/179 [==============================] - 0s 494us/step - loss: 0.0630\n",
      "Epoch 30/100\n",
      "179/179 [==============================] - 0s 494us/step - loss: 0.0615\n",
      "Epoch 31/100\n",
      "179/179 [==============================] - 0s 493us/step - loss: 0.0613\n",
      "Epoch 32/100\n",
      "179/179 [==============================] - 0s 492us/step - loss: 0.0623\n",
      "Epoch 33/100\n",
      "179/179 [==============================] - 0s 491us/step - loss: 0.0605\n",
      "Epoch 34/100\n",
      "179/179 [==============================] - 0s 491us/step - loss: 0.0583\n",
      "Epoch 35/100\n",
      "179/179 [==============================] - 0s 492us/step - loss: 0.0609\n",
      "Epoch 36/100\n",
      "179/179 [==============================] - 0s 490us/step - loss: 0.0623\n",
      "Epoch 37/100\n",
      "179/179 [==============================] - 0s 486us/step - loss: 0.0614\n",
      "Epoch 38/100\n",
      "179/179 [==============================] - 0s 492us/step - loss: 0.0616\n",
      "Epoch 39/100\n",
      "179/179 [==============================] - 0s 489us/step - loss: 0.0610\n",
      "Epoch 40/100\n",
      "179/179 [==============================] - 0s 489us/step - loss: 0.0586\n",
      "Epoch 41/100\n",
      "179/179 [==============================] - 0s 516us/step - loss: 0.0632\n",
      "Epoch 42/100\n",
      "179/179 [==============================] - 0s 487us/step - loss: 0.0624\n",
      "Epoch 43/100\n",
      "179/179 [==============================] - 0s 489us/step - loss: 0.0598\n",
      "Epoch 44/100\n",
      "179/179 [==============================] - 0s 498us/step - loss: 0.0620\n",
      "Epoch 45/100\n",
      "179/179 [==============================] - 0s 488us/step - loss: 0.0605\n",
      "Epoch 46/100\n",
      "179/179 [==============================] - 0s 499us/step - loss: 0.0587\n",
      "Epoch 47/100\n",
      "179/179 [==============================] - 0s 503us/step - loss: 0.0603\n",
      "Epoch 48/100\n",
      "179/179 [==============================] - 0s 497us/step - loss: 0.0600\n",
      "Epoch 49/100\n",
      "179/179 [==============================] - 0s 492us/step - loss: 0.0589\n",
      "Epoch 50/100\n",
      "179/179 [==============================] - 0s 493us/step - loss: 0.0610\n",
      "Epoch 51/100\n",
      "179/179 [==============================] - 0s 497us/step - loss: 0.0606\n",
      "Epoch 52/100\n",
      "179/179 [==============================] - 0s 506us/step - loss: 0.0592\n",
      "Epoch 53/100\n",
      "179/179 [==============================] - 0s 505us/step - loss: 0.0610\n",
      "Epoch 54/100\n",
      "179/179 [==============================] - 0s 489us/step - loss: 0.0589\n",
      "Epoch 55/100\n",
      "179/179 [==============================] - 0s 482us/step - loss: 0.0614\n",
      "Epoch 56/100\n",
      "179/179 [==============================] - 0s 486us/step - loss: 0.0597\n",
      "Epoch 57/100\n",
      "179/179 [==============================] - 0s 494us/step - loss: 0.0598\n",
      "Epoch 58/100\n",
      "179/179 [==============================] - 0s 489us/step - loss: 0.0592\n",
      "Epoch 59/100\n",
      "179/179 [==============================] - 0s 489us/step - loss: 0.0596\n",
      "Epoch 60/100\n",
      "179/179 [==============================] - 0s 491us/step - loss: 0.0589\n",
      "Epoch 61/100\n",
      "179/179 [==============================] - 0s 494us/step - loss: 0.0594\n",
      "Epoch 62/100\n",
      "179/179 [==============================] - 0s 484us/step - loss: 0.0607\n",
      "Epoch 63/100\n",
      "179/179 [==============================] - 0s 496us/step - loss: 0.0609\n",
      "Epoch 64/100\n",
      "179/179 [==============================] - 0s 487us/step - loss: 0.0577\n",
      "Epoch 65/100\n",
      "179/179 [==============================] - 0s 485us/step - loss: 0.0595\n",
      "Epoch 66/100\n",
      "179/179 [==============================] - 0s 487us/step - loss: 0.0578\n",
      "Epoch 67/100\n",
      "179/179 [==============================] - 0s 486us/step - loss: 0.0606\n",
      "Epoch 68/100\n",
      "179/179 [==============================] - 0s 488us/step - loss: 0.0590\n",
      "Epoch 69/100\n",
      "179/179 [==============================] - 0s 493us/step - loss: 0.0581\n",
      "Epoch 70/100\n",
      "179/179 [==============================] - 0s 489us/step - loss: 0.0603\n",
      "Epoch 71/100\n",
      "179/179 [==============================] - 0s 481us/step - loss: 0.0592\n",
      "Epoch 72/100\n",
      "179/179 [==============================] - 0s 487us/step - loss: 0.0593\n",
      "Epoch 73/100\n",
      "179/179 [==============================] - 0s 485us/step - loss: 0.0610\n",
      "Epoch 74/100\n",
      "179/179 [==============================] - 0s 492us/step - loss: 0.0598\n",
      "Epoch 75/100\n",
      "179/179 [==============================] - 0s 498us/step - loss: 0.0585\n",
      "Epoch 76/100\n",
      "179/179 [==============================] - 0s 491us/step - loss: 0.0585\n",
      "Epoch 77/100\n",
      "179/179 [==============================] - 0s 517us/step - loss: 0.0611\n",
      "Epoch 78/100\n",
      "179/179 [==============================] - 0s 494us/step - loss: 0.0589\n",
      "Epoch 79/100\n",
      "179/179 [==============================] - 0s 493us/step - loss: 0.0594\n",
      "Epoch 80/100\n",
      "179/179 [==============================] - 0s 488us/step - loss: 0.0591\n",
      "Epoch 81/100\n",
      "179/179 [==============================] - 0s 487us/step - loss: 0.0598\n",
      "Epoch 82/100\n",
      "179/179 [==============================] - 0s 489us/step - loss: 0.0580\n",
      "Epoch 83/100\n",
      "179/179 [==============================] - 0s 489us/step - loss: 0.0589\n",
      "Epoch 84/100\n",
      "179/179 [==============================] - 0s 488us/step - loss: 0.0610\n",
      "Epoch 85/100\n",
      "179/179 [==============================] - 0s 494us/step - loss: 0.0629\n",
      "Epoch 86/100\n",
      "179/179 [==============================] - 0s 489us/step - loss: 0.0577\n",
      "Epoch 87/100\n",
      "179/179 [==============================] - 0s 488us/step - loss: 0.0581\n",
      "Epoch 88/100\n",
      "179/179 [==============================] - 0s 485us/step - loss: 0.0593\n",
      "Epoch 89/100\n",
      "179/179 [==============================] - 0s 485us/step - loss: 0.0589\n",
      "Epoch 90/100\n",
      "179/179 [==============================] - 0s 492us/step - loss: 0.0608\n",
      "Epoch 91/100\n",
      "179/179 [==============================] - 0s 490us/step - loss: 0.0571\n",
      "Epoch 92/100\n",
      "179/179 [==============================] - 0s 486us/step - loss: 0.0590\n",
      "Epoch 93/100\n",
      "179/179 [==============================] - 0s 496us/step - loss: 0.0582\n",
      "Epoch 94/100\n",
      "179/179 [==============================] - 0s 495us/step - loss: 0.0585\n",
      "Epoch 95/100\n",
      "179/179 [==============================] - 0s 493us/step - loss: 0.0582\n",
      "Epoch 96/100\n",
      "179/179 [==============================] - 0s 484us/step - loss: 0.0599\n",
      "Epoch 97/100\n",
      "179/179 [==============================] - 0s 490us/step - loss: 0.0598\n",
      "Epoch 98/100\n",
      "179/179 [==============================] - 0s 482us/step - loss: 0.0569\n",
      "Epoch 99/100\n",
      "179/179 [==============================] - 0s 482us/step - loss: 0.0598\n",
      "Epoch 100/100\n",
      "179/179 [==============================] - 0s 481us/step - loss: 0.0582\n"
     ]
    }
   ],
   "source": [
    "# 코드 작성\n",
    "result = model.fit(trainX, train_y, batch_size=1, epochs = 100)"
   ]
  },
  {
   "cell_type": "markdown",
   "metadata": {
    "id": "mkbq5uEb8zf3"
   },
   "source": [
    "### 9. test dat를 이용하여 RNN model의 성능을 평가하시오.\n",
    "- 0~5 사이의 범위가 아닌 기존 데이터의 범위로 역변환하여 mean squared error로 성능을 평가하시오."
   ]
  },
  {
   "cell_type": "code",
   "execution_count": 75,
   "metadata": {
    "id": "JZ6qXwXU6KSp"
   },
   "outputs": [
    {
     "name": "stdout",
     "output_type": "stream",
     "text": [
      "6/6 [==============================] - 0s 1ms/step\n",
      "2/2 [==============================] - 0s 1ms/step\n"
     ]
    },
    {
     "data": {
      "text/plain": [
       "5242455054.214802"
      ]
     },
     "execution_count": 75,
     "metadata": {},
     "output_type": "execute_result"
    }
   ],
   "source": [
    "# 코드 작성\n",
    "y_train_pred = model.predict(trainX)\n",
    "y_test_pred = model.predict(testX)\n",
    "\n",
    "y_train_pred_inv = StockData.inverse_transform(y_train_pred)\n",
    "y_test_pred_inv = StockData.inverse_transform(y_test_pred)\n",
    "\n",
    "mse = mean_squared_error(test_y, y_test_pred_inv)\n",
    "mse"
   ]
  },
  {
   "cell_type": "markdown",
   "metadata": {
    "id": "y0-puzsE_rVn"
   },
   "source": [
    "### 10. 실제 데이터, 학습데이터 예측 결과, 테스트데이터 예측 결과를 하나의 차트에 서로 다른 색상으로 line plot을 그리고, 각각의 색상이 실제 데이터값 / 학습데이터 예측결과 / 테스트 데이터 예측 결과 중 어떠한 데이터를 의미하는지 작성하시오.\n",
    "- 반드시, 0~5 사이의 범위가 아닌 기존 데이터의 범위의 값으로 시각화하시오."
   ]
  },
  {
   "cell_type": "code",
   "execution_count": 76,
   "metadata": {
    "id": "_PsSwbq-9wrk"
   },
   "outputs": [
    {
     "data": {
      "image/png": "[encoded data removed]",
      "text/plain": [
       "<Figure size 640x480 with 1 Axes>"
      ]
     },
     "metadata": {},
     "output_type": "display_data"
    }
   ],
   "source": [
    "plt.plot(stock_data, linewidth = 5, alpha = 0.6, label = 'real value', color = 'gold')\n",
    "# np.arrage(a, b ,c) : a부터 b까지 c간격으로 1d array 생성(b는 제외)\n",
    "train_start_ind = 7\n",
    "train_end_ind = 7 + len(y_train_pred_inv)\n",
    "x_train_axis = np.arange(train_start_ind, train_end_ind, 1)\n",
    "plt.plot(x_train_axis, y_train_pred_inv, color = 'green', label = 'training prediction')\n",
    "\n",
    "test_start_ind = train_end_ind+num_past\n",
    "test_end_ind = test_start_ind + len(y_test_pred_inv)\n",
    "x_test_axis = np.arange(test_start_ind, test_end_ind, 1)\n",
    "plt.plot(x_test_axis, y_test_pred_inv, color = 'red', label = 'test prediction')\n",
    "\n",
    "plt.legend()\n",
    "plt.grid()"
   ]
  },
  {
   "cell_type": "code",
   "execution_count": null,
   "metadata": {},
   "outputs": [],
   "source": []
  }
 ],
 "metadata": {
  "colab": {
   "authorship_tag": "ABX9TyMm+VOCjSAeQTFf3YUxP1b/",
   "collapsed_sections": [],
   "name": "RNN_samsung.ipynb",
   "provenance": []
  },
  "kernelspec": {
   "display_name": "Python 3 (ipykernel)",
   "language": "python",
   "name": "python3"
  },
  "language_info": {
   "codemirror_mode": {
    "name": "ipython",
    "version": 3
   },
   "file_extension": ".py",
   "mimetype": "text/x-python",
   "name": "python",
   "nbconvert_exporter": "python",
   "pygments_lexer": "ipython3",
   "version": "3.10.9"
  }
 },
 "nbformat": 4,
 "nbformat_minor": 1
}
